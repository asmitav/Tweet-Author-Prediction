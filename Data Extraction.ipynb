{
 "cells": [
  {
   "cell_type": "code",
   "execution_count": 1,
   "metadata": {
    "collapsed": true
   },
   "outputs": [],
   "source": [
    "import numpy as np\n",
    "import twitter, re, datetime, pandas as pd\n",
    "import tweepy\n",
    "from tweepy import OAuthHandler"
   ]
  },
  {
   "cell_type": "code",
   "execution_count": 2,
   "metadata": {
    "collapsed": true
   },
   "outputs": [],
   "source": [
    "consumer_key = 'kMZn5xFkZVAv0EP1hhsNOjg3O'\n",
    "consumer_secret = 'qKG5Gg2D36a0glo4nlAn6UfImNepMlducfdpB0UAA2UD1If5rJ'\n",
    "access_token = '3197418475-LBS9ZKfX8BDcCcakVVZBmRY4G8DM9VySJKQkQI3'\n",
    "access_secret = 'Fp88WuiAF3zrjXGOXcANzmbm013QXjdnmaz1ERYa7KfGT'\n",
    " \n",
    "auth = OAuthHandler(consumer_key, consumer_secret)\n",
    "auth.set_access_token(access_token, access_secret)\n",
    " \n",
    "api = tweepy.API(auth)"
   ]
  },
  {
   "cell_type": "code",
   "execution_count": 3,
   "metadata": {
    "collapsed": true,
    "scrolled": false
   },
   "outputs": [],
   "source": [
    "def mine_user_tweets(screen_name, num_tweets):\n",
    "    tweet_list = []# id, screen_name, real_name, created_at, text, retweet count, \n",
    "    for status in tweepy.Cursor(api.user_timeline, screen_name=screen_name).items(num_tweets):\n",
    "        tweet_list.append([status._json['id'], status._json['user']['screen_name'], status._json['user']['name'], \n",
    "                      status._json['created_at'], status._json['text'], status._json['retweet_count']])\n",
    "    tweet_df = pd.DataFrame(tweet_list)\n",
    "    tweet_df.columns = ['id', 'screen_name', 'real_name', 'created_at', 'text', 'retweet_count']\n",
    "    return tweet_df"
   ]
  },
  {
   "cell_type": "code",
   "execution_count": 4,
   "metadata": {
    "collapsed": true
   },
   "outputs": [],
   "source": [
    "donald_trump_tweets = mine_user_tweets('@realDonaldTrump', 20)"
   ]
  },
  {
   "cell_type": "code",
   "execution_count": 5,
   "metadata": {
    "collapsed": true
   },
   "outputs": [],
   "source": [
    "barack_obama_tweets = mine_user_tweets('@BarackObama', 20)"
   ]
  },
  {
   "cell_type": "markdown",
   "metadata": {},
   "source": [
    "    The parks and recs team"
   ]
  },
  {
   "cell_type": "code",
   "execution_count": 6,
   "metadata": {
    "collapsed": true
   },
   "outputs": [],
   "source": [
    "chris_pratt = mine_user_tweets('@prattprattpratt', 1000)"
   ]
  },
  {
   "cell_type": "code",
   "execution_count": 7,
   "metadata": {
    "collapsed": true
   },
   "outputs": [],
   "source": [
    "aziz_ansari = mine_user_tweets('@azizansari', 1000)"
   ]
  },
  {
   "cell_type": "code",
   "execution_count": 8,
   "metadata": {
    "collapsed": true
   },
   "outputs": [],
   "source": [
    "ryan_reynolds = mine_user_tweets('@VancityReynolds', 1000)"
   ]
  },
  {
   "cell_type": "code",
   "execution_count": 9,
   "metadata": {
    "collapsed": true
   },
   "outputs": [],
   "source": [
    "aubrey_plaza = mine_user_tweets('@evilhag', 1000)"
   ]
  },
  {
   "cell_type": "code",
   "execution_count": 10,
   "metadata": {
    "collapsed": true
   },
   "outputs": [],
   "source": [
    "nick_offerman = mine_user_tweets('@Nick_Offerman', 1000)"
   ]
  },
  {
   "cell_type": "code",
   "execution_count": 11,
   "metadata": {
    "collapsed": true
   },
   "outputs": [],
   "source": [
    "adam_scott = mine_user_tweets('@mradamscott', 1000)"
   ]
  },
  {
   "cell_type": "code",
   "execution_count": 12,
   "metadata": {
    "collapsed": true
   },
   "outputs": [],
   "source": [
    "jim_o_heir = mine_user_tweets('@JimOHeir', 1000)"
   ]
  },
  {
   "cell_type": "code",
   "execution_count": 13,
   "metadata": {
    "collapsed": true
   },
   "outputs": [],
   "source": [
    "megan_mullally = mine_user_tweets('@MeganMullally', 1000)"
   ]
  },
  {
   "cell_type": "code",
   "execution_count": 18,
   "metadata": {
    "collapsed": true
   },
   "outputs": [],
   "source": [
    "training_set = pd.concat([chris_pratt, aziz_ansari, ryan_reynolds, aubrey_plaza, \n",
    "                          nick_offerman, adam_scott, jim_o_heir, megan_mullally])"
   ]
  },
  {
   "cell_type": "code",
   "execution_count": 19,
   "metadata": {},
   "outputs": [
    {
     "data": {
      "text/plain": [
       "(8000, 6)"
      ]
     },
     "execution_count": 19,
     "metadata": {},
     "output_type": "execute_result"
    }
   ],
   "source": [
    "training_set.shape"
   ]
  },
  {
   "cell_type": "code",
   "execution_count": 20,
   "metadata": {
    "collapsed": true
   },
   "outputs": [],
   "source": [
    "training_set.to_csv('data/training_set.csv')"
   ]
  },
  {
   "cell_type": "markdown",
   "metadata": {
    "collapsed": true
   },
   "source": [
    "    TODO : ADD BILLY EICHNER"
   ]
  },
  {
   "cell_type": "code",
   "execution_count": null,
   "metadata": {},
   "outputs": [],
   "source": []
  }
 ],
 "metadata": {
  "kernelspec": {
   "display_name": "Python 3",
   "language": "python",
   "name": "python3"
  },
  "language_info": {
   "codemirror_mode": {
    "name": "ipython",
    "version": 3
   },
   "file_extension": ".py",
   "mimetype": "text/x-python",
   "name": "python",
   "nbconvert_exporter": "python",
   "pygments_lexer": "ipython3",
   "version": "3.6.5"
  }
 },
 "nbformat": 4,
 "nbformat_minor": 2
}
